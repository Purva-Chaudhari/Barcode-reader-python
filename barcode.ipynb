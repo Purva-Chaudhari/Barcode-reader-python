{
  "nbformat": 4,
  "nbformat_minor": 0,
  "metadata": {
    "colab": {
      "name": "barcode",
      "provenance": []
    },
    "kernelspec": {
      "name": "python3",
      "display_name": "Python 3"
    }
  },
  "cells": [
    {
      "cell_type": "code",
      "metadata": {
        "id": "yXPansE6J7i6",
        "colab_type": "code",
        "outputId": "92e868d2-851f-44f6-f503-854b94a0c027",
        "colab": {
          "base_uri": "https://localhost:8080/",
          "height": 675
        }
      },
      "source": [
        "!sudo apt-get install libzbar0"
      ],
      "execution_count": 21,
      "outputs": [
        {
          "output_type": "stream",
          "text": [
            "Reading package lists... Done\n",
            "Building dependency tree       \n",
            "Reading state information... Done\n",
            "The following additional packages will be installed:\n",
            "  libv4l-0 libv4lconvert0\n",
            "The following NEW packages will be installed:\n",
            "  libv4l-0 libv4lconvert0 libzbar0\n",
            "0 upgraded, 3 newly installed, 0 to remove and 25 not upgraded.\n",
            "Need to get 193 kB of archives.\n",
            "After this operation, 760 kB of additional disk space will be used.\n",
            "Get:1 http://archive.ubuntu.com/ubuntu bionic/main amd64 libv4lconvert0 amd64 1.14.2-1 [76.1 kB]\n",
            "Get:2 http://archive.ubuntu.com/ubuntu bionic/main amd64 libv4l-0 amd64 1.14.2-1 [41.7 kB]\n",
            "Get:3 http://archive.ubuntu.com/ubuntu bionic/universe amd64 libzbar0 amd64 0.10+doc-10.1build2 [75.7 kB]\n",
            "Fetched 193 kB in 1s (282 kB/s)\n",
            "debconf: unable to initialize frontend: Dialog\n",
            "debconf: (No usable dialog-like program is installed, so the dialog based frontend cannot be used. at /usr/share/perl5/Debconf/FrontEnd/Dialog.pm line 76, <> line 3.)\n",
            "debconf: falling back to frontend: Readline\n",
            "debconf: unable to initialize frontend: Readline\n",
            "debconf: (This frontend requires a controlling tty.)\n",
            "debconf: falling back to frontend: Teletype\n",
            "dpkg-preconfigure: unable to re-open stdin: \n",
            "Selecting previously unselected package libv4lconvert0:amd64.\n",
            "(Reading database ... 144568 files and directories currently installed.)\n",
            "Preparing to unpack .../libv4lconvert0_1.14.2-1_amd64.deb ...\n",
            "Unpacking libv4lconvert0:amd64 (1.14.2-1) ...\n",
            "Selecting previously unselected package libv4l-0:amd64.\n",
            "Preparing to unpack .../libv4l-0_1.14.2-1_amd64.deb ...\n",
            "Unpacking libv4l-0:amd64 (1.14.2-1) ...\n",
            "Selecting previously unselected package libzbar0:amd64.\n",
            "Preparing to unpack .../libzbar0_0.10+doc-10.1build2_amd64.deb ...\n",
            "Unpacking libzbar0:amd64 (0.10+doc-10.1build2) ...\n",
            "Setting up libv4lconvert0:amd64 (1.14.2-1) ...\n",
            "Setting up libv4l-0:amd64 (1.14.2-1) ...\n",
            "Setting up libzbar0:amd64 (0.10+doc-10.1build2) ...\n",
            "Processing triggers for libc-bin (2.27-3ubuntu1) ...\n",
            "/sbin/ldconfig.real: /usr/local/lib/python3.6/dist-packages/ideep4py/lib/libmkldnn.so.0 is not a symbolic link\n",
            "\n"
          ],
          "name": "stdout"
        }
      ]
    },
    {
      "cell_type": "code",
      "metadata": {
        "id": "pQADCyu4IErV",
        "colab_type": "code",
        "outputId": "ae56807b-d879-4ffa-f670-a89629d134c6",
        "colab": {
          "base_uri": "https://localhost:8080/",
          "height": 88
        }
      },
      "source": [
        "!pip install pyzbar\n"
      ],
      "execution_count": 22,
      "outputs": [
        {
          "output_type": "stream",
          "text": [
            "Collecting pyzbar\n",
            "  Downloading https://files.pythonhosted.org/packages/46/7e/d2ad702facc47c0b3106a494f5dfbc3f296aab7a07dac05d1f30bdad0fab/pyzbar-0.1.8-py2.py3-none-any.whl\n",
            "Installing collected packages: pyzbar\n",
            "Successfully installed pyzbar-0.1.8\n"
          ],
          "name": "stdout"
        }
      ]
    },
    {
      "cell_type": "code",
      "metadata": {
        "id": "GJ_0sqEFKGja",
        "colab_type": "code",
        "outputId": "949f99b5-cd58-4e8a-949d-e03749c0d7a9",
        "colab": {
          "base_uri": "https://localhost:8080/",
          "height": 52
        }
      },
      "source": [
        "!pip install pyzbar[scripts]"
      ],
      "execution_count": 23,
      "outputs": [
        {
          "output_type": "stream",
          "text": [
            "Requirement already satisfied: pyzbar[scripts] in /usr/local/lib/python3.6/dist-packages (0.1.8)\n",
            "Requirement already satisfied: Pillow>=3.2.0; extra == \"scripts\" in /usr/local/lib/python3.6/dist-packages (from pyzbar[scripts]) (7.0.0)\n"
          ],
          "name": "stdout"
        }
      ]
    },
    {
      "cell_type": "code",
      "metadata": {
        "id": "Q-jM2oX9gTKc",
        "colab_type": "code",
        "outputId": "e7290533-cd8a-4de4-ca5a-2b1f3a217013",
        "colab": {
          "base_uri": "https://localhost:8080/",
          "height": 52
        }
      },
      "source": [
        "!pip install google\n"
      ],
      "execution_count": 24,
      "outputs": [
        {
          "output_type": "stream",
          "text": [
            "Requirement already satisfied: google in /usr/local/lib/python3.6/dist-packages (2.0.3)\n",
            "Requirement already satisfied: beautifulsoup4 in /usr/local/lib/python3.6/dist-packages (from google) (4.6.3)\n"
          ],
          "name": "stdout"
        }
      ]
    },
    {
      "cell_type": "code",
      "metadata": {
        "id": "Dz6D_Rr3I5Xd",
        "colab_type": "code",
        "outputId": "eed50130-444e-4f31-c2c2-f980f3e84b3d",
        "colab": {
          "base_uri": "https://localhost:8080/",
          "height": 35
        }
      },
      "source": [
        "!pip install beautifulsoup4"
      ],
      "execution_count": 25,
      "outputs": [
        {
          "output_type": "stream",
          "text": [
            "Requirement already satisfied: beautifulsoup4 in /usr/local/lib/python3.6/dist-packages (4.6.3)\n"
          ],
          "name": "stdout"
        }
      ]
    },
    {
      "cell_type": "code",
      "metadata": {
        "id": "b_NSLtWyJH3Z",
        "colab_type": "code",
        "outputId": "230c6e19-ff3a-42fe-f967-cc15d93a3eba",
        "colab": {
          "base_uri": "https://localhost:8080/",
          "height": 55
        }
      },
      "source": [
        "from pyzbar.pyzbar import decode\n",
        "from PIL import Image\n",
        "decode(Image.open('barcode1.png'))"
      ],
      "execution_count": 27,
      "outputs": [
        {
          "output_type": "execute_result",
          "data": {
            "text/plain": [
              "[Decoded(data=b'0036000291452', type='EAN13', rect=Rect(left=23, top=10, width=177, height=149), polygon=[Point(x=23, y=11), Point(x=23, y=159), Point(x=109, y=159), Point(x=200, y=158), Point(x=200, y=10)])]"
            ]
          },
          "metadata": {
            "tags": []
          },
          "execution_count": 27
        }
      ]
    },
    {
      "cell_type": "code",
      "metadata": {
        "id": "gVRgdOVNocY_",
        "colab_type": "code",
        "outputId": "edcf40cc-d00e-4d9d-d851-cec208a5e295",
        "colab": {
          "base_uri": "https://localhost:8080/",
          "height": 35
        }
      },
      "source": [
        "l = []\n",
        "for i in (decode(Image.open('barcode1.png'))):\n",
        "  for j in i:\n",
        "    l.append(j)\n",
        "l[0]"
      ],
      "execution_count": 28,
      "outputs": [
        {
          "output_type": "execute_result",
          "data": {
            "text/plain": [
              "b'0036000291452'"
            ]
          },
          "metadata": {
            "tags": []
          },
          "execution_count": 28
        }
      ]
    },
    {
      "cell_type": "code",
      "metadata": {
        "id": "JHDFpD9IkouN",
        "colab_type": "code",
        "outputId": "fb8cee2e-0ea9-4d53-86a6-4a45f7615a03",
        "colab": {
          "base_uri": "https://localhost:8080/",
          "height": 35
        }
      },
      "source": [
        "try: \n",
        "    from googlesearch import search \n",
        "except ImportError:  \n",
        "    print(\"No module named 'google' found\") \n",
        "  \n",
        "# to search \n",
        "query = l[0]\n",
        "url = ''  \n",
        "for j in search(query, tld=\"co.in\", num=10, stop=1, pause=2): \n",
        "    url = url + j\n",
        "print(url)"
      ],
      "execution_count": 29,
      "outputs": [
        {
          "output_type": "stream",
          "text": [
            "https://upcdatabase.org/code/0036000291452\n"
          ],
          "name": "stdout"
        }
      ]
    },
    {
      "cell_type": "code",
      "metadata": {
        "id": "-crIQkEBDd0z",
        "colab_type": "code",
        "colab": {}
      },
      "source": [
        "from urllib.request import urlopen\n",
        "from bs4 import BeautifulSoup\n"
      ],
      "execution_count": 0,
      "outputs": []
    },
    {
      "cell_type": "code",
      "metadata": {
        "id": "jv69KnTODhSO",
        "colab_type": "code",
        "colab": {}
      },
      "source": [
        "html = urlopen(url)"
      ],
      "execution_count": 0,
      "outputs": []
    },
    {
      "cell_type": "code",
      "metadata": {
        "id": "BAm5IWD1DkIP",
        "colab_type": "code",
        "outputId": "cced95f4-a6ba-4524-8492-a2375433f4f2",
        "colab": {
          "base_uri": "https://localhost:8080/",
          "height": 35
        }
      },
      "source": [
        "soup = BeautifulSoup(html, 'lxml')\n",
        "type(soup)"
      ],
      "execution_count": 33,
      "outputs": [
        {
          "output_type": "execute_result",
          "data": {
            "text/plain": [
              "bs4.BeautifulSoup"
            ]
          },
          "metadata": {
            "tags": []
          },
          "execution_count": 33
        }
      ]
    },
    {
      "cell_type": "code",
      "metadata": {
        "id": "VN7JJkL4Dnx5",
        "colab_type": "code",
        "outputId": "e53e96e4-f3fd-4f42-da17-5dd1d283c3e3",
        "colab": {
          "base_uri": "https://localhost:8080/",
          "height": 35
        }
      },
      "source": [
        "# Get the title\n",
        "title = soup.title\n",
        "title = str(title)\n",
        "l = title.split('<title>')\n",
        "l1 = l[1].split('</title>')\n",
        "print(l1[0])"
      ],
      "execution_count": 34,
      "outputs": [
        {
          "output_type": "stream",
          "text": [
            "Information on barcode 0036000291452 | UPC Database\n"
          ],
          "name": "stdout"
        }
      ]
    }
  ]
}